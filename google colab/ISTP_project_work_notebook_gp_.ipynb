{
  "nbformat": 4,
  "nbformat_minor": 0,
  "metadata": {
    "colab": {
      "name": "ISTP project work notebook gp. ",
      "provenance": [],
      "collapsed_sections": [],
      "include_colab_link": true
    },
    "kernelspec": {
      "name": "python3",
      "display_name": "Python 3"
    },
    "accelerator": "GPU"
  },
  "cells": [
    {
      "cell_type": "markdown",
      "metadata": {
        "id": "view-in-github",
        "colab_type": "text"
      },
      "source": [
        "<a href=\"https://colab.research.google.com/github/girish-srivatsa/itsp/blob/master/google%20colab/ISTP_project_work_notebook_gp_.ipynb\" target=\"_parent\"><img src=\"https://colab.research.google.com/assets/colab-badge.svg\" alt=\"Open In Colab\"/></a>"
      ]
    },
    {
      "cell_type": "code",
      "metadata": {
        "id": "OPV6qtjVlzun",
        "colab_type": "code",
        "colab": {
          "base_uri": "https://localhost:8080/",
          "height": 34
        },
        "outputId": "d7a37a60-feef-4265-a3d2-009c5431321b"
      },
      "source": [
        "#importing necessary libraries\n",
        "import numpy as np\n",
        "import tensorflow as tf\n",
        "import keras \n",
        "from keras import layers         \n",
        "from keras.layers import Input, Dense, Activation, ZeroPadding2D, BatchNormalization, Flatten, Conv1D, Conv2D\n",
        "from keras.layers import AveragePooling2D, MaxPooling2D, Dropout, GlobalMaxPooling2D, GlobalAveragePooling2D\n",
        "from keras.layers import Dropout \n",
        "from keras.models import Model       \n",
        "import matplotlib.pyplot as plt\n",
        "import pandas as pd\n",
        "import os\n",
        "from PIL import Image\n",
        "from google.colab.patches import cv2_imshow        \n",
        "import cv2\n",
        "from pydrive.auth import GoogleAuth\n",
        "from pydrive.drive import GoogleDrive\n",
        "from google.colab import auth\n",
        "from oauth2client.client import GoogleCredentials"
      ],
      "execution_count": null,
      "outputs": [
        {
          "output_type": "stream",
          "text": [
            "Using TensorFlow backend.\n"
          ],
          "name": "stderr"
        }
      ]
    },
    {
      "cell_type": "code",
      "metadata": {
        "id": "k8y3QnQYmm1R",
        "colab_type": "code",
        "colab": {}
      },
      "source": [
        "url = \"https://drive.google.com/open?id=1QRkgQ0dzP_Occx2j-STNl8D2qz-24gM5\"  #source of data\n",
        "url_id = \"1QRkgQ0dzP_Occx2j-STNl8D2qz-24gM5\""
      ],
      "execution_count": null,
      "outputs": []
    },
    {
      "cell_type": "code",
      "metadata": {
        "id": "jHlKYlminV41",
        "colab_type": "code",
        "colab": {}
      },
      "source": [
        "auth.authenticate_user()\n",
        "gauth = GoogleAuth()                                        \n",
        "gauth.credentials = GoogleCredentials.get_application_default()\n",
        "drive = GoogleDrive(gauth)"
      ],
      "execution_count": null,
      "outputs": []
    },
    {
      "cell_type": "code",
      "metadata": {
        "id": "Z-t7xbDznd2V",
        "colab_type": "code",
        "colab": {}
      },
      "source": [
        "downloaded = drive.CreateFile({'id' : url_id})      #saving data in csv file\n",
        "downloaded.GetContentFile('Emotions.csv')"
      ],
      "execution_count": null,
      "outputs": []
    },
    {
      "cell_type": "code",
      "metadata": {
        "id": "UfyDIvy7oRDj",
        "colab_type": "code",
        "colab": {
          "base_uri": "https://localhost:8080/",
          "height": 195
        },
        "outputId": "52e43290-2c03-4e5b-92e4-1de53f559fca"
      },
      "source": [
        "data = pd.read_csv('Emotions.csv')                 #reading the csv file and storing in a data frame\n",
        "data.head()"
      ],
      "execution_count": null,
      "outputs": [
        {
          "output_type": "execute_result",
          "data": {
            "text/html": [
              "<div>\n",
              "<style scoped>\n",
              "    .dataframe tbody tr th:only-of-type {\n",
              "        vertical-align: middle;\n",
              "    }\n",
              "\n",
              "    .dataframe tbody tr th {\n",
              "        vertical-align: top;\n",
              "    }\n",
              "\n",
              "    .dataframe thead th {\n",
              "        text-align: right;\n",
              "    }\n",
              "</style>\n",
              "<table border=\"1\" class=\"dataframe\">\n",
              "  <thead>\n",
              "    <tr style=\"text-align: right;\">\n",
              "      <th></th>\n",
              "      <th>emotion</th>\n",
              "      <th>pixels</th>\n",
              "      <th>Usage</th>\n",
              "    </tr>\n",
              "  </thead>\n",
              "  <tbody>\n",
              "    <tr>\n",
              "      <th>0</th>\n",
              "      <td>0</td>\n",
              "      <td>86 104 151 119 35 26 36 36 35 33 31 33 32 34 3...</td>\n",
              "      <td>Training</td>\n",
              "    </tr>\n",
              "    <tr>\n",
              "      <th>1</th>\n",
              "      <td>4</td>\n",
              "      <td>30 30 28 30 27 23 11 5 6 9 13 20 34 52 75 106 ...</td>\n",
              "      <td>Training</td>\n",
              "    </tr>\n",
              "    <tr>\n",
              "      <th>2</th>\n",
              "      <td>3</td>\n",
              "      <td>226 226 225 223 223 216 210 214 208 198 192 18...</td>\n",
              "      <td>Training</td>\n",
              "    </tr>\n",
              "    <tr>\n",
              "      <th>3</th>\n",
              "      <td>4</td>\n",
              "      <td>180 133 85 75 63 63 66 67 66 58 51 66 84 102 1...</td>\n",
              "      <td>Training</td>\n",
              "    </tr>\n",
              "    <tr>\n",
              "      <th>4</th>\n",
              "      <td>0</td>\n",
              "      <td>14 15 32 72 82 113 180 147 45 49 54 74 67 79 7...</td>\n",
              "      <td>Training</td>\n",
              "    </tr>\n",
              "  </tbody>\n",
              "</table>\n",
              "</div>"
            ],
            "text/plain": [
              "   emotion                                             pixels     Usage\n",
              "0        0  86 104 151 119 35 26 36 36 35 33 31 33 32 34 3...  Training\n",
              "1        4  30 30 28 30 27 23 11 5 6 9 13 20 34 52 75 106 ...  Training\n",
              "2        3  226 226 225 223 223 216 210 214 208 198 192 18...  Training\n",
              "3        4  180 133 85 75 63 63 66 67 66 58 51 66 84 102 1...  Training\n",
              "4        0  14 15 32 72 82 113 180 147 45 49 54 74 67 79 7...  Training"
            ]
          },
          "metadata": {
            "tags": []
          },
          "execution_count": 74
        }
      ]
    },
    {
      "cell_type": "code",
      "metadata": {
        "id": "wsMGIuO2upJg",
        "colab_type": "code",
        "colab": {
          "base_uri": "https://localhost:8080/",
          "height": 279
        },
        "outputId": "73c6f360-3295-4af3-9e00-5da4bcfc2ef1"
      },
      "source": [
        "for i in range(data.shape[0]):\n",
        "  pix_list = [float(x) for x in data['pixels'][i].split(' ')]\n",
        "  # pix_list = norm_list(pix_list)\n",
        "  pix_arr = np.array(pix_list)\n",
        "  pix_img = np.reshape(pix_arr, (48, 48))           #pre processing\n",
        "  pix_img_to_list = pix_img.tolist()\n",
        "  data['pixels'][i] = pix_img_to_list\n",
        "\n",
        "data.head()"
      ],
      "execution_count": null,
      "outputs": [
        {
          "output_type": "stream",
          "text": [
            "/usr/local/lib/python3.6/dist-packages/ipykernel_launcher.py:7: SettingWithCopyWarning: \n",
            "A value is trying to be set on a copy of a slice from a DataFrame\n",
            "\n",
            "See the caveats in the documentation: https://pandas.pydata.org/pandas-docs/stable/user_guide/indexing.html#returning-a-view-versus-a-copy\n",
            "  import sys\n"
          ],
          "name": "stderr"
        },
        {
          "output_type": "execute_result",
          "data": {
            "text/html": [
              "<div>\n",
              "<style scoped>\n",
              "    .dataframe tbody tr th:only-of-type {\n",
              "        vertical-align: middle;\n",
              "    }\n",
              "\n",
              "    .dataframe tbody tr th {\n",
              "        vertical-align: top;\n",
              "    }\n",
              "\n",
              "    .dataframe thead th {\n",
              "        text-align: right;\n",
              "    }\n",
              "</style>\n",
              "<table border=\"1\" class=\"dataframe\">\n",
              "  <thead>\n",
              "    <tr style=\"text-align: right;\">\n",
              "      <th></th>\n",
              "      <th>emotion</th>\n",
              "      <th>pixels</th>\n",
              "      <th>Usage</th>\n",
              "    </tr>\n",
              "  </thead>\n",
              "  <tbody>\n",
              "    <tr>\n",
              "      <th>0</th>\n",
              "      <td>0</td>\n",
              "      <td>[[86.0, 104.0, 151.0, 119.0, 35.0, 26.0, 36.0,...</td>\n",
              "      <td>Training</td>\n",
              "    </tr>\n",
              "    <tr>\n",
              "      <th>1</th>\n",
              "      <td>4</td>\n",
              "      <td>[[30.0, 30.0, 28.0, 30.0, 27.0, 23.0, 11.0, 5....</td>\n",
              "      <td>Training</td>\n",
              "    </tr>\n",
              "    <tr>\n",
              "      <th>2</th>\n",
              "      <td>3</td>\n",
              "      <td>[[226.0, 226.0, 225.0, 223.0, 223.0, 216.0, 21...</td>\n",
              "      <td>Training</td>\n",
              "    </tr>\n",
              "    <tr>\n",
              "      <th>3</th>\n",
              "      <td>4</td>\n",
              "      <td>[[180.0, 133.0, 85.0, 75.0, 63.0, 63.0, 66.0, ...</td>\n",
              "      <td>Training</td>\n",
              "    </tr>\n",
              "    <tr>\n",
              "      <th>4</th>\n",
              "      <td>0</td>\n",
              "      <td>[[14.0, 15.0, 32.0, 72.0, 82.0, 113.0, 180.0, ...</td>\n",
              "      <td>Training</td>\n",
              "    </tr>\n",
              "  </tbody>\n",
              "</table>\n",
              "</div>"
            ],
            "text/plain": [
              "   emotion                                             pixels     Usage\n",
              "0        0  [[86.0, 104.0, 151.0, 119.0, 35.0, 26.0, 36.0,...  Training\n",
              "1        4  [[30.0, 30.0, 28.0, 30.0, 27.0, 23.0, 11.0, 5....  Training\n",
              "2        3  [[226.0, 226.0, 225.0, 223.0, 223.0, 216.0, 21...  Training\n",
              "3        4  [[180.0, 133.0, 85.0, 75.0, 63.0, 63.0, 66.0, ...  Training\n",
              "4        0  [[14.0, 15.0, 32.0, 72.0, 82.0, 113.0, 180.0, ...  Training"
            ]
          },
          "metadata": {
            "tags": []
          },
          "execution_count": 75
        }
      ]
    },
    {
      "cell_type": "code",
      "metadata": {
        "id": "k1JsyUF4vvNq",
        "colab_type": "code",
        "colab": {
          "base_uri": "https://localhost:8080/",
          "height": 34
        },
        "outputId": "4716f5e0-bbe8-4fdd-801d-92de8c7b1bc5"
      },
      "source": [
        "data['pixels'][0][0][0]"
      ],
      "execution_count": null,
      "outputs": [
        {
          "output_type": "execute_result",
          "data": {
            "text/plain": [
              "86.0"
            ]
          },
          "metadata": {
            "tags": []
          },
          "execution_count": 76
        }
      ]
    },
    {
      "cell_type": "code",
      "metadata": {
        "id": "uNEsClrgodPC",
        "colab_type": "code",
        "colab": {
          "base_uri": "https://localhost:8080/",
          "height": 212
        },
        "outputId": "3293dab2-9976-4f14-d52a-e91ba59049c6"
      },
      "source": [
        "dftrain = data[data['Usage'] == 'Training']\n",
        "dfdev = data[data['Usage'] == 'PublicTest']\n",
        "dftest = data[data['Usage'] == 'PrivateTest']\n",
        "print(dftrain.shape, dfdev.shape, dftest.shape) #splitting the data                                                    \n",
        "dftrain.head()"
      ],
      "execution_count": null,
      "outputs": [
        {
          "output_type": "stream",
          "text": [
            "(30694, 3) (4089, 3) (4122, 3)\n"
          ],
          "name": "stdout"
        },
        {
          "output_type": "execute_result",
          "data": {
            "text/html": [
              "<div>\n",
              "<style scoped>\n",
              "    .dataframe tbody tr th:only-of-type {\n",
              "        vertical-align: middle;\n",
              "    }\n",
              "\n",
              "    .dataframe tbody tr th {\n",
              "        vertical-align: top;\n",
              "    }\n",
              "\n",
              "    .dataframe thead th {\n",
              "        text-align: right;\n",
              "    }\n",
              "</style>\n",
              "<table border=\"1\" class=\"dataframe\">\n",
              "  <thead>\n",
              "    <tr style=\"text-align: right;\">\n",
              "      <th></th>\n",
              "      <th>emotion</th>\n",
              "      <th>pixels</th>\n",
              "      <th>Usage</th>\n",
              "    </tr>\n",
              "  </thead>\n",
              "  <tbody>\n",
              "    <tr>\n",
              "      <th>0</th>\n",
              "      <td>0</td>\n",
              "      <td>[[86.0, 104.0, 151.0, 119.0, 35.0, 26.0, 36.0,...</td>\n",
              "      <td>Training</td>\n",
              "    </tr>\n",
              "    <tr>\n",
              "      <th>1</th>\n",
              "      <td>4</td>\n",
              "      <td>[[30.0, 30.0, 28.0, 30.0, 27.0, 23.0, 11.0, 5....</td>\n",
              "      <td>Training</td>\n",
              "    </tr>\n",
              "    <tr>\n",
              "      <th>2</th>\n",
              "      <td>3</td>\n",
              "      <td>[[226.0, 226.0, 225.0, 223.0, 223.0, 216.0, 21...</td>\n",
              "      <td>Training</td>\n",
              "    </tr>\n",
              "    <tr>\n",
              "      <th>3</th>\n",
              "      <td>4</td>\n",
              "      <td>[[180.0, 133.0, 85.0, 75.0, 63.0, 63.0, 66.0, ...</td>\n",
              "      <td>Training</td>\n",
              "    </tr>\n",
              "    <tr>\n",
              "      <th>4</th>\n",
              "      <td>0</td>\n",
              "      <td>[[14.0, 15.0, 32.0, 72.0, 82.0, 113.0, 180.0, ...</td>\n",
              "      <td>Training</td>\n",
              "    </tr>\n",
              "  </tbody>\n",
              "</table>\n",
              "</div>"
            ],
            "text/plain": [
              "   emotion                                             pixels     Usage\n",
              "0        0  [[86.0, 104.0, 151.0, 119.0, 35.0, 26.0, 36.0,...  Training\n",
              "1        4  [[30.0, 30.0, 28.0, 30.0, 27.0, 23.0, 11.0, 5....  Training\n",
              "2        3  [[226.0, 226.0, 225.0, 223.0, 223.0, 216.0, 21...  Training\n",
              "3        4  [[180.0, 133.0, 85.0, 75.0, 63.0, 63.0, 66.0, ...  Training\n",
              "4        0  [[14.0, 15.0, 32.0, 72.0, 82.0, 113.0, 180.0, ...  Training"
            ]
          },
          "metadata": {
            "tags": []
          },
          "execution_count": 77
        }
      ]
    },
    {
      "cell_type": "code",
      "metadata": {
        "id": "sYyMG_F7opIj",
        "colab_type": "code",
        "colab": {
          "base_uri": "https://localhost:8080/",
          "height": 282
        },
        "outputId": "82b4e031-4c80-41c7-abba-bea82e1fc718"
      },
      "source": [
        "print(dftrain.emotion.hist(bins = 20))\n",
        "# print(dfdev.emotion.hist(bins = 20))\n",
        "# print(dftest.emotion.hist(bins = 20))"
      ],
      "execution_count": null,
      "outputs": [
        {
          "output_type": "stream",
          "text": [
            "AxesSubplot(0.125,0.125;0.775x0.755)\n"
          ],
          "name": "stdout"
        },
        {
          "output_type": "display_data",
          "data": {
            "image/png": "[encoded data removed]",
            "text/plain": [
              "<Figure size 432x288 with 1 Axes>"
            ]
          },
          "metadata": {
            "tags": [],
            "needs_background": "light"
          }
        }
      ]
    },
    {
      "cell_type": "code",
      "metadata": {
        "id": "E9BsAuxoubhO",
        "colab_type": "code",
        "colab": {}
      },
      "source": [
        "train_count = dftrain.shape[0]\n",
        "dev_count = dfdev.shape[0]\n",
        "test_count = dftest.shape[0]\n",
        "img_h = 48\n",
        "img_w = 48"
      ],
      "execution_count": null,
      "outputs": []
    },
    {
      "cell_type": "code",
      "metadata": {
        "id": "SH_rqWBrsnbJ",
        "colab_type": "code",
        "colab": {}
      },
      "source": [
        "y_train = np.array(dftrain['emotion'])\n",
        "y_dev = np.array(dfdev['emotion'])\n",
        "y_test = np.array(dftest['emotion'])\n",
        "                          \n",
        "Y_train = tf.keras.utils.to_categorical(y_train, num_classes = 7)         #one hot encoding\n",
        "Y_dev = tf.keras.utils.to_categorical(y_dev, num_classes = 7)\n",
        "Y_test = tf.keras.utils.to_categorical(y_test, num_classes = 7)\n",
        "\n",
        "# print(Y_train)"
      ],
      "execution_count": null,
      "outputs": []
    },
    {
      "cell_type": "code",
      "metadata": {
        "id": "g93ZOJme1TCy",
        "colab_type": "code",
        "colab": {}
      },
      "source": [
        "def get_X(df, start, end):\n",
        "  x_list = []\n",
        "  for i in range(start, end):\n",
        "    x_list.append(df['pixels'][i])                        #making values btwn 0 and 1\n",
        "  X = np.array(x_list)\n",
        "  X = X / 255.0\n",
        "  return X"
      ],
      "execution_count": null,
      "outputs": []
    },
    {
      "cell_type": "code",
      "metadata": {
        "id": "Nap4G4vXuCoT",
        "colab_type": "code",
        "colab": {}
      },
      "source": [
        "X_train = get_X(dftrain, 0, train_count)\n",
        "X_dev = get_X(dfdev, train_count, train_count + dev_count)\n",
        "X_test = get_X(dftest, train_count + dev_count, train_count + dev_count + test_count)\n",
        "\n",
        "X_train.shape = (30694, 48, 48, 1)\n",
        "X_dev.shape = (4089, 48, 48, 1)\n",
        "X_test.shape = (4122, 48, 48, 1)"
      ],
      "execution_count": null,
      "outputs": []
    },
    {
      "cell_type": "code",
      "metadata": {
        "id": "-4mcASiK8JEd",
        "colab_type": "code",
        "colab": {}
      },
      "source": [
        "from keras.regularizers import l2\n",
        "from keras.layers import SeparableConv2D                           #importing libraries\n",
        "from keras.preprocessing.image import ImageDataGenerator"
      ],
      "execution_count": null,
      "outputs": []
    },
    {
      "cell_type": "code",
      "metadata": {
        "id": "twQIOAbb0Utc",
        "colab_type": "code",
        "colab": {}
      },
      "source": [
        "#model structure\n",
        "def train_Model(input_shape,num_classes,l2_regularization=0.01):\n",
        "    regularization = l2(l2_regularization)\n",
        "\n",
        "    # base\n",
        "    img_input = Input(input_shape)\n",
        "    x = Conv2D(5, (3, 3), strides=(1, 1), kernel_regularizer=regularization,\n",
        "                                            use_bias=False)(img_input)\n",
        "    x = BatchNormalization()(x)\n",
        "    x = Activation('relu')(x)\n",
        "    x = Conv2D(5, (3, 3), strides=(1, 1), kernel_regularizer=regularization,\n",
        "                                            use_bias=False)(x)\n",
        "    x = BatchNormalization()(x)\n",
        "    x = Activation('relu')(x)\n",
        "\n",
        "    # module 1                           \n",
        "    residual = Conv2D(8, (1, 1), strides=(2, 2),\n",
        "                      padding='same', use_bias=False)(x)\n",
        "    residual = BatchNormalization()(residual)\n",
        "\n",
        "    x = SeparableConv2D(8, (3, 3), padding='same',\n",
        "                        kernel_regularizer=regularization,\n",
        "                        use_bias=False)(x)\n",
        "    x = BatchNormalization()(x)\n",
        "    x = Activation('relu')(x)\n",
        "    x = SeparableConv2D(8, (3, 3), padding='same',\n",
        "                        kernel_regularizer=regularization,\n",
        "                        use_bias=False)(x)\n",
        "    x = BatchNormalization()(x)\n",
        "\n",
        "    x = MaxPooling2D((3, 3), strides=(2, 2), padding='same')(x)\n",
        "    x = layers.add([x, residual])\n",
        "\n",
        "    # module 2\n",
        "    residual = Conv2D(16, (1, 1), strides=(2, 2),\n",
        "                      padding='same', use_bias=False)(x)\n",
        "    residual = BatchNormalization()(residual)\n",
        "\n",
        "    x = SeparableConv2D(16, (3, 3), padding='same',\n",
        "                        kernel_regularizer=regularization,\n",
        "                        use_bias=False)(x)\n",
        "    x = BatchNormalization()(x)\n",
        "    x = Activation('relu')(x)\n",
        "    x = SeparableConv2D(16, (3, 3), padding='same',\n",
        "                        kernel_regularizer=regularization,\n",
        "                        use_bias=False)(x)\n",
        "    x = BatchNormalization()(x)\n",
        "\n",
        "    x = MaxPooling2D((3, 3), strides=(2, 2), padding='same')(x)\n",
        "    x = layers.add([x, residual])\n",
        "\n",
        "    # module 3\n",
        "    residual = Conv2D(32, (1, 1), strides=(2, 2),\n",
        "                      padding='same', use_bias=False)(x)\n",
        "    residual = BatchNormalization()(residual)\n",
        "\n",
        "    x = SeparableConv2D(32, (3, 3), padding='same',\n",
        "                        kernel_regularizer=regularization,\n",
        "                        use_bias=False)(x)\n",
        "    x = BatchNormalization()(x)\n",
        "    x = Activation('relu')(x)\n",
        "    x = SeparableConv2D(32, (3, 3), padding='same',\n",
        "                        kernel_regularizer=regularization,\n",
        "                        use_bias=False)(x)\n",
        "    x = BatchNormalization()(x)\n",
        "\n",
        "    x = MaxPooling2D((3, 3), strides=(2, 2), padding='same')(x)\n",
        "    x = layers.add([x, residual])\n",
        "\n",
        "    # module 4\n",
        "    residual = Conv2D(64, (1, 1), strides=(2, 2),\n",
        "                      padding='same', use_bias=False)(x)\n",
        "    residual = BatchNormalization()(residual)\n",
        "\n",
        "    x = SeparableConv2D(64, (3, 3), padding='same',\n",
        "                        kernel_regularizer=regularization,\n",
        "                        use_bias=False)(x)\n",
        "    x = BatchNormalization()(x)\n",
        "    x = Activation('relu')(x)\n",
        "    x = SeparableConv2D(64, (3, 3), padding='same',\n",
        "                        kernel_regularizer=regularization,\n",
        "                        use_bias=False)(x)\n",
        "    x = BatchNormalization()(x)\n",
        "\n",
        "    x = MaxPooling2D((3, 3), strides=(2, 2), padding='same')(x)\n",
        "    x = layers.add([x, residual])\n",
        "    \n",
        "    \"\"\"x = Conv2D(num_classes, (3, 3),\n",
        "            #kernel_regularizer=regularization,\n",
        "            padding='same')(x)\"\"\"\n",
        "    x=Flatten()(x)\n",
        "    x=SVC()\n",
        "    #x = GlobalAveragePooling2D()(x)\n",
        "    output = Activation('softmax',name='predictions')(x)\n",
        "\n",
        "    model = Model(img_input, output)\n",
        "    return model"
      ],
      "execution_count": null,
      "outputs": []
    },
    {
      "cell_type": "code",
      "metadata": {
        "id": "CVHjxWyv65gY",
        "colab_type": "code",
        "colab": {}
      },
      "source": [
        "Emotion_Model = train_Model((48, 48, 1),7)"
      ],
      "execution_count": null,
      "outputs": []
    },
    {
      "cell_type": "code",
      "metadata": {
        "id": "O1mVc4B4G6r2",
        "colab_type": "code",
        "colab": {}
      },
      "source": [
        "Emotion_Model.summary() #model summary"
      ],
      "execution_count": null,
      "outputs": []
    },
    {
      "cell_type": "code",
      "metadata": {
        "id": "M-Yxzb7F8k7U",
        "colab_type": "code",
        "colab": {}
      },
      "source": [
        "from keras.callbacks import ReduceLROnPlateau,EarlyStopping\n",
        "patience=50"
      ],
      "execution_count": null,
      "outputs": []
    },
    {
      "cell_type": "code",
      "metadata": {
        "id": "ThKcuKNP5ecT",
        "colab_type": "code",
        "colab": {}
      },
      "source": [
        "#using image data generator and callback\n",
        "data_generator = ImageDataGenerator(\n",
        "                        featurewise_center=False,\n",
        "                        featurewise_std_normalization=False,\n",
        "                        rotation_range=10,\n",
        "                        width_shift_range=0.1,\n",
        "                        height_shift_range=0.1,\n",
        "                        zoom_range=.1,\n",
        "                        horizontal_flip=True)\n",
        "early_stop = EarlyStopping('val_loss', patience=patience)\n",
        "reduce_lr = ReduceLROnPlateau('val_loss', factor=0.1,\n",
        "                                  patience=int(patience/4), verbose=1)\n",
        "\n",
        "#model_checkpoint = ModelCheckpoint(model_names, 'val_loss', verbose=1, save_best_only=True)\n",
        "callbacks = [early_stop, reduce_lr]  \n"
      ],
      "execution_count": null,
      "outputs": []
    },
    {
      "cell_type": "code",
      "metadata": {
        "id": "03GLRYOm8LsR",
        "colab_type": "code",
        "colab": {}
      },
      "source": [
        "Emotion_Model.compile(optimizer = \"adam\", loss = \"categorical_crossentropy\", metrics = ['accuracy'])"
      ],
      "execution_count": null,
      "outputs": []
    },
    {
      "cell_type": "code",
      "metadata": {
        "id": "WLsW7zPqF_FF",
        "colab_type": "code",
        "colab": {}
      },
      "source": [
        "Emotion_Model.summary()"
      ],
      "execution_count": null,
      "outputs": []
    },
    {
      "cell_type": "code",
      "metadata": {
        "id": "7LQRuJBO6nT6",
        "colab_type": "code",
        "colab": {}
      },
      "source": [
        "Emotion_Model.fit_generator(data_generator.flow(X_train, Y_train,\n",
        "                                            32),\n",
        "                        steps_per_epoch=len(X_train) / 32,\n",
        "                        epochs=1000, verbose=1, callbacks=callbacks,\n",
        "                        validation_data=(X_dev,Y_dev))"
      ],
      "execution_count": null,
      "outputs": []
    },
    {
      "cell_type": "code",
      "metadata": {
        "id": "ulmL5yDxK3-W",
        "colab_type": "code",
        "colab": {
          "base_uri": "https://localhost:8080/",
          "height": 50
        },
        "outputId": "05367c6e-e3b0-4a5f-a0b3-4a2010d72ed8"
      },
      "source": [
        "#evaluating on test set\n",
        "Emotion_Model.evaluate(X_test, Y_test, batch_size = 32, verbose = 1) "
      ],
      "execution_count": null,
      "outputs": [
        {
          "output_type": "stream",
          "text": [
            "4122/4122 [==============================] - 1s 170us/step\n"
          ],
          "name": "stdout"
        },
        {
          "output_type": "execute_result",
          "data": {
            "text/plain": [
              "[0.902482979827457, 0.6695778965950012]"
            ]
          },
          "metadata": {
            "tags": []
          },
          "execution_count": 84
        }
      ]
    },
    {
      "cell_type": "code",
      "metadata": {
        "id": "V04psmBgZqZ4",
        "colab_type": "code",
        "colab": {}
      },
      "source": [
        "import dlib\n",
        "from PIL import Image\n",
        "from skimage import io\n",
        "import matplotlib.pyplot as plt\n",
        "\n",
        "#extracting the faces\n",
        "def detect_faces(image):\n",
        "\n",
        "    # Create a face detector\n",
        "    face_detector = dlib.get_frontal_face_detector()\n",
        "\n",
        "    # Run detector and get bounding boxes of the faces on image.\n",
        "    detected_faces = face_detector(image, 1)\n",
        "    face_frames = [(x.left(), x.top(),\n",
        "                    x.right(), x.bottom()) for x in detected_faces]  \n",
        "\n",
        "    return face_frames"
      ],
      "execution_count": null,
      "outputs": []
    },
    {
      "cell_type": "code",
      "metadata": {
        "id": "OJ2BaejodJEQ",
        "colab_type": "code",
        "colab": {}
      },
      "source": [
        "path='/content/output.jpg'"
      ],
      "execution_count": null,
      "outputs": []
    },
    {
      "cell_type": "code",
      "metadata": {
        "id": "dRVb7NNVdOfF",
        "colab_type": "code",
        "colab": {}
      },
      "source": [
        "imager=cv2.imread(path)"
      ],
      "execution_count": null,
      "outputs": []
    },
    {
      "cell_type": "code",
      "metadata": {
        "id": "XnZf8nstumQh",
        "colab_type": "code",
        "colab": {}
      },
      "source": [
        "datagen=ImageDataGenerator(\n",
        "    featurewise_center=False,\n",
        "                        featurewise_std_normalization=False,\n",
        "                        rotation_range=10,\n",
        "                        width_shift_range=0.1,\n",
        "                        height_shift_range=0.1,\n",
        "                        zoom_range=.1,\n",
        "                        horizontal_flip=True)"
      ],
      "execution_count": null,
      "outputs": []
    },
    {
      "cell_type": "code",
      "metadata": {
        "id": "r34qbEXPvzGs",
        "colab_type": "code",
        "colab": {}
      },
      "source": [
        "l=datagen.flow(\n",
        "    tf.keras.backend.expand_dims(imager,axis=0), y=None, batch_size=32, shuffle=True, sample_weight=None, seed=None,    \n",
        ")"
      ],
      "execution_count": null,
      "outputs": []
    },
    {
      "cell_type": "code",
      "metadata": {
        "id": "WGbswd4IyEYv",
        "colab_type": "code",
        "colab": {}
      },
      "source": [
        "#using image data generator to improve prediction image but time taking\n",
        "b=np.array([0.,0.0,0.0,0.0,0.0,0.0,0.0])\n",
        "limiter=0\n",
        "limit_max=20\n",
        "b1=[0,0,0,0,0,0,0]"
      ],
      "execution_count": null,
      "outputs": []
    },
    {
      "cell_type": "code",
      "metadata": {
        "id": "csieBxhNHnKS",
        "colab_type": "code",
        "colab": {}
      },
      "source": [
        "s=np.zeros((imager.shape))"
      ],
      "execution_count": null,
      "outputs": []
    },
    {
      "cell_type": "code",
      "metadata": {
        "id": "fhP8KD5cbh9c",
        "colab_type": "code",
        "colab": {
          "base_uri": "https://localhost:8080/",
          "height": 34
        },
        "outputId": "466a8ebe-3177-4c41-be52-4fa89e442374"
      },
      "source": [
        "# Detect faces\n",
        "a=time.time()\n",
        "for p1 in l:\n",
        "  if(limiter>limit_max):\n",
        "    break\n",
        "  #print(imager.shape)\n",
        "  detected_faces = detect_faces(np.squeeze(p1).astype(np.uint8))\n",
        "  #print(detected_faces)\n",
        "# Crop faces and plot\n",
        "  for n, face_rect in enumerate(detected_faces):\n",
        "    face = Image.fromarray(np.squeeze(p1).astype(np.uint8)).crop(face_rect)\n",
        "    face.thumbnail((48, 48), Image.ANTIALIAS)\n",
        "    face = face.convert('L')\n",
        "    #face.save(path)\n",
        "  face_arr = np.asarray(face, dtype = np.float32)\n",
        "  face_arr = face_arr / 255\n",
        "#print(face_arr.shape)\n",
        "# face_arr\n",
        "  face_arr.shape = (1, 48, 48, 1)\n",
        "  #plt.imshow(face_arr.reshape(48,48), interpolation=\"none\")\n",
        "  #plt.show()\n",
        "  x2=model1.predict(face_arr)\n",
        "  b+=x2[0]\n",
        "  limiter+=1\n",
        "c=time.time()\n",
        "print(c-a)"
      ],
      "execution_count": null,
      "outputs": [
        {
          "output_type": "stream",
          "text": [
            "11.184325218200684\n"
          ],
          "name": "stdout"
        }
      ]
    },
    {
      "cell_type": "code",
      "metadata": {
        "id": "lwl-hWexHEQ8",
        "colab_type": "code",
        "colab": {
          "base_uri": "https://localhost:8080/",
          "height": 51
        },
        "outputId": "75716aed-4bed-4192-e5cc-992e97ee7370"
      },
      "source": [
        "print(b/limit_max)"
      ],
      "execution_count": null,
      "outputs": [
        {
          "output_type": "stream",
          "text": [
            "[0.25548698 0.00209743 0.03671282 0.43526475 0.14269257 0.04053099\n",
            " 0.13721435]\n"
          ],
          "name": "stdout"
        }
      ]
    },
    {
      "cell_type": "code",
      "metadata": {
        "id": "baCSnUtx4nsU",
        "colab_type": "code",
        "colab": {
          "base_uri": "https://localhost:8080/",
          "height": 51
        },
        "outputId": "46d43e0a-5a5c-49d0-ed24-70fc0e7cc37e"
      },
      "source": [
        "#predicting without image generator on test face\n",
        "detected_faces = detect_faces(imager)\n",
        "  #print(detected_faces)\n",
        "# Crop faces and plot\n",
        "for n, face_rect in enumerate(detected_faces):\n",
        "  face = Image.fromarray(np.squeeze(imager).astype(np.uint8)).crop(face_rect)\n",
        "  face.thumbnail((48, 48), Image.ANTIALIAS)\n",
        "  face = face.convert('L')\n",
        "    #face.save(path)\n",
        "face_arr = np.asarray(face, dtype = np.float32)\n",
        "face_arr = face_arr / 255\n",
        "#print(face_arr.shape)\n",
        "# face_arr\n",
        "face_arr.shape = (1, 48, 48, 1)\n",
        "  #plt.imshow(face_arr.reshape(48,48), interpolation=\"none\")\n",
        "  #plt.show()\n",
        "x2=model1.predict(face_arr)\n",
        "print(x2[0])"
      ],
      "execution_count": null,
      "outputs": [
        {
          "output_type": "stream",
          "text": [
            "[0.28661758 0.00333528 0.04774178 0.33545223 0.16974306 0.03656797\n",
            " 0.12054209]\n"
          ],
          "name": "stdout"
        }
      ]
    },
    {
      "cell_type": "code",
      "metadata": {
        "id": "qS1cubdftb2v",
        "colab_type": "code",
        "colab": {
          "base_uri": "https://localhost:8080/",
          "height": 267
        },
        "outputId": "d1fd5143-87be-4521-8946-f407ca6884d4"
      },
      "source": [
        "face_arr = np.asarray(face, dtype = np.float32)\n",
        "face_arr = face_arr / 255\n",
        "#print(face_arr.shape)\n",
        "# face_arr\n",
        "face_arr.shape = (1, 48, 48, 1)\n",
        "plt.imshow(face_arr.reshape(48,48), interpolation=\"none\")\n",
        "plt.show()"
      ],
      "execution_count": null,
      "outputs": [
        {
          "output_type": "display_data",
          "data": {
            "image/png": "[encoded data removed]",
            "text/plain": [
              "<Figure size 432x288 with 1 Axes>"
            ]
          },
          "metadata": {
            "tags": [],
            "needs_background": "light"
          }
        }
      ]
    },
    {
      "cell_type": "code",
      "metadata": {
        "id": "2OYKYI19cyu4",
        "colab_type": "code",
        "colab": {}
      },
      "source": [
        "#x=model2.predict(face_arr)\n",
        "x1=model1.predict(face_arr)"
      ],
      "execution_count": null,
      "outputs": []
    },
    {
      "cell_type": "code",
      "metadata": {
        "id": "dSuBoHeBPkHR",
        "colab_type": "code",
        "colab": {
          "base_uri": "https://localhost:8080/",
          "height": 51
        },
        "outputId": "f5435551-2b4e-44d1-9bef-dc6b122d5b34"
      },
      "source": [
        "print(x2[0])"
      ],
      "execution_count": null,
      "outputs": [
        {
          "output_type": "stream",
          "text": [
            "[0.2866174  0.00333528 0.04774167 0.33545244 0.16974296 0.03656795\n",
            " 0.12054233]\n"
          ],
          "name": "stdout"
        }
      ]
    },
    {
      "cell_type": "code",
      "metadata": {
        "id": "uGGlHCDXzEGP",
        "colab_type": "code",
        "colab": {
          "base_uri": "https://localhost:8080/",
          "height": 51
        },
        "outputId": "5d4ddd11-ee54-4df6-9de9-de349bd60e1f"
      },
      "source": [
        "print(x1[0])"
      ],
      "execution_count": null,
      "outputs": [
        {
          "output_type": "stream",
          "text": [
            "[0.1551418  0.00045477 0.13383994 0.13168201 0.10984278 0.30673426\n",
            " 0.16230443]\n"
          ],
          "name": "stdout"
        }
      ]
    },
    {
      "cell_type": "code",
      "metadata": {
        "id": "34pYjlekp5Y0",
        "colab_type": "code",
        "colab": {
          "base_uri": "https://localhost:8080/",
          "height": 34
        },
        "outputId": "9b8e23cb-31ac-49c5-d00c-f9d1dbd44834"
      },
      "source": [
        "print(X_test.shape)"
      ],
      "execution_count": null,
      "outputs": [
        {
          "output_type": "stream",
          "text": [
            "(4122, 48, 48, 1)\n"
          ],
          "name": "stdout"
        }
      ]
    },
    {
      "cell_type": "code",
      "metadata": {
        "id": "OxipUHRBppSG",
        "colab_type": "code",
        "colab": {}
      },
      "source": [
        "l=[] #predicted emotion\n",
        "m=[]  #actual emotiom\n",
        "n=[]   #indices of image\n",
        "for i in range(4122):\n",
        "  \n",
        "  temper=model1.predict(X_test[i].reshape(1,48,48,1))\n",
        "  p=np.argmax(temper[0])                         #storing the misclassified images\n",
        "  p1=np.argmax(Y_test[i])\n",
        "  if p!=p1:\n",
        "    l.append(p)\n",
        "    m.append(p1)\n",
        "    n.append(i)"
      ],
      "execution_count": null,
      "outputs": []
    },
    {
      "cell_type": "code",
      "metadata": {
        "id": "k_dnPQNqxR4p",
        "colab_type": "code",
        "colab": {}
      },
      "source": [
        "def fun(actual,predicted):\n",
        "  for i in range(len(l)):\n",
        "    if(l[i]==actual and m[i]==predicted):\n",
        "      temper=model1.predict(X_test[i].reshape(1,48,48,1))\n",
        "      yield temper,i\n"
      ],
      "execution_count": null,
      "outputs": []
    },
    {
      "cell_type": "code",
      "metadata": {
        "id": "ikd60ilWyfNN",
        "colab_type": "code",
        "colab": {}
      },
      "source": [
        "vec,index=next(fun(6,4))"
      ],
      "execution_count": null,
      "outputs": []
    },
    {
      "cell_type": "code",
      "metadata": {
        "id": "97u7lWJvyyLg",
        "colab_type": "code",
        "colab": {
          "base_uri": "https://localhost:8080/",
          "height": 84
        },
        "outputId": "7a2d488e-0f13-4606-9f8f-70efbf4ac318"
      },
      "source": [
        "print(vec),print(Y_test[i])"
      ],
      "execution_count": null,
      "outputs": [
        {
          "output_type": "stream",
          "text": [
            "[[0.48764303 0.00356721 0.19613154 0.2213646  0.0491555  0.02162113\n",
            "  0.02051707]]\n",
            "[0. 0. 0. 1. 0. 0. 0.]\n"
          ],
          "name": "stdout"
        },
        {
          "output_type": "execute_result",
          "data": {
            "text/plain": [
              "(None, None)"
            ]
          },
          "metadata": {
            "tags": []
          },
          "execution_count": 116
        }
      ]
    },
    {
      "cell_type": "code",
      "metadata": {
        "id": "CCdcuSyssgdK",
        "colab_type": "code",
        "colab": {
          "base_uri": "https://localhost:8080/",
          "height": 34
        },
        "outputId": "e90dc841-a4d2-4fe5-98c3-39cb2d2297ad"
      },
      "source": [
        "print(len(l))"
      ],
      "execution_count": null,
      "outputs": [
        {
          "output_type": "stream",
          "text": [
            "1362\n"
          ],
          "name": "stdout"
        }
      ]
    },
    {
      "cell_type": "code",
      "metadata": {
        "id": "nBocYoOQpr1c",
        "colab_type": "code",
        "colab": {}
      },
      "source": [
        "p=[]\n",
        "for i in range(7):\n",
        "  p.append([0,0,0,0,0,0,0])\n",
        "for i in range(len(l)):\n",
        "  p[l[i]][m[i]]+=1\n"
      ],
      "execution_count": null,
      "outputs": []
    },
    {
      "cell_type": "code",
      "metadata": {
        "id": "apjzFINJpyXb",
        "colab_type": "code",
        "colab": {
          "base_uri": "https://localhost:8080/",
          "height": 606
        },
        "outputId": "25ca73a1-0192-4205-85ec-2800746049a4"
      },
      "source": [
        "plt.figure(figsize=(20, 10))\n",
        "x=7*np.arange(7)\n",
        "bar_width=0.3                 #plotting the misclassified images to correct one\n",
        "for i in range(7):\n",
        "  plt.bar(x+bar_width*i,p[i],width=bar_width)\n",
        "plt.xticks(x + 0.5*bar_width, ['anger','disgust', 'fear', 'happy','sad','surprise','neutral'])\n",
        "plt.legend(['anger','disgust', 'fear', 'happy','sad','surprise','neutral'])\n",
        "plt.xlabel(\"example which is getting misclassified\")\n",
        "plt.ylabel(\"no of examples each label is getting misclassified into another\")\n",
        "plt.show()"
      ],
      "execution_count": null,
      "outputs": [
        {
          "output_type": "display_data",
          "data": {
            "image/png": "[encoded data removed]",
            "text/plain": [
              "<Figure size 1440x720 with 1 Axes>"
            ]
          },
          "metadata": {
            "tags": [],
            "needs_background": "light"
          }
        }
      ]
    },
    {
      "cell_type": "code",
      "metadata": {
        "id": "sJ-UOQcuvZ9T",
        "colab_type": "code",
        "colab": {}
      },
      "source": [
        "import csv"
      ],
      "execution_count": null,
      "outputs": []
    },
    {
      "cell_type": "code",
      "metadata": {
        "id": "1xHAhILzV7Dx",
        "colab_type": "code",
        "colab": {}
      },
      "source": [
        "with open(\"values.csv\",'w') as csvfile:  #storing the indices for future use\n",
        "  csv_writer=csv.writer(csvfile)\n",
        "  csv_writer.writerow(l)\n",
        "  csv_writer.writerow(m)\n",
        "  csv_writer.writerow(n)\n"
      ],
      "execution_count": null,
      "outputs": []
    },
    {
      "cell_type": "code",
      "metadata": {
        "id": "xkwk_ATUr_bJ",
        "colab_type": "code",
        "colab": {
          "base_uri": "https://localhost:8080/",
          "height": 34
        },
        "outputId": "c98a4bfc-79c6-4f29-ca7d-8f090b0f8df1"
      },
      "source": [
        "% cd drive/My Drive"
      ],
      "execution_count": null,
      "outputs": [
        {
          "output_type": "stream",
          "text": [
            "/content/drive/My Drive\n"
          ],
          "name": "stdout"
        }
      ]
    },
    {
      "cell_type": "code",
      "metadata": {
        "id": "P2vrxp4bRFd-",
        "colab_type": "code",
        "colab": {}
      },
      "source": [
        "from google.colab import drive"
      ],
      "execution_count": null,
      "outputs": []
    },
    {
      "cell_type": "code",
      "metadata": {
        "id": "cHJxAVUARKw5",
        "colab_type": "code",
        "colab": {}
      },
      "source": [
        "drive.mount('/content/drive')"
      ],
      "execution_count": null,
      "outputs": []
    },
    {
      "cell_type": "code",
      "metadata": {
        "id": "Yd-Fgt_dRjpM",
        "colab_type": "code",
        "colab": {}
      },
      "source": [
        "Emotion_Model.save('Model_folder/model_1') #saving model in google drive"
      ],
      "execution_count": null,
      "outputs": []
    },
    {
      "cell_type": "code",
      "metadata": {
        "id": "C2b7KYp_YS59",
        "colab_type": "code",
        "colab": {}
      },
      "source": [
        "import tensorflow as tf"
      ],
      "execution_count": null,
      "outputs": []
    },
    {
      "cell_type": "code",
      "metadata": {
        "id": "YeKlsItctKWA",
        "colab_type": "code",
        "colab": {}
      },
      "source": [
        "model1=tf.keras.models.load_model('Model_folder/model_1')  #loading model from google drive"
      ],
      "execution_count": null,
      "outputs": []
    },
    {
      "cell_type": "code",
      "metadata": {
        "id": "NzlRIixeAC3Y",
        "colab_type": "code",
        "colab": {}
      },
      "source": [
        "model2=tf.keras.models.load_model('h5typemodel1.h5')"
      ],
      "execution_count": null,
      "outputs": []
    },
    {
      "cell_type": "code",
      "metadata": {
        "id": "MasPfpS1YjoX",
        "colab_type": "code",
        "colab": {}
      },
      "source": [
        "model1.save('h5typemodel1.h5')"
      ],
      "execution_count": null,
      "outputs": []
    }
  ]
}