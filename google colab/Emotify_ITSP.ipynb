{
  "nbformat": 4,
  "nbformat_minor": 0,
  "metadata": {
    "colab": {
      "name": "Emotify_ITSP.ipynb",
      "provenance": [],
      "collapsed_sections": [],
      "include_colab_link": true
    },
    "kernelspec": {
      "name": "python3",
      "display_name": "Python 3"
    },
    "accelerator": "GPU"
  },
  "cells": [
    {
      "cell_type": "markdown",
      "metadata": {
        "id": "view-in-github",
        "colab_type": "text"
      },
      "source": [
        "<a href=\"https://colab.research.google.com/github/girish-srivatsa/itsp/blob/master/google%20colab/Emotify_ITSP.ipynb\" target=\"_parent\"><img src=\"https://colab.research.google.com/assets/colab-badge.svg\" alt=\"Open In Colab\"/></a>"
      ]
    },
    {
      "cell_type": "code",
      "metadata": {
        "id": "OPV6qtjVlzun",
        "colab_type": "code",
        "colab": {
          "base_uri": "https://localhost:8080/",
          "height": 35
        },
        "outputId": "0aadfdf8-01cc-4523-aa99-0f06001f5cbc"
      },
      "source": [
        "# Import all required packages.\n",
        "\n",
        "import numpy as np\n",
        "import tensorflow as tf\n",
        "import keras \n",
        "from keras import layers\n",
        "from keras.layers import Input, Dense, Activation, ZeroPadding2D, BatchNormalization, Flatten, Conv1D, Conv2D\n",
        "from keras.layers import AveragePooling2D, MaxPooling2D, Dropout, GlobalMaxPooling2D, GlobalAveragePooling2D\n",
        "from keras.layers import Dropout \n",
        "from keras.models import Model\n",
        "import matplotlib.pyplot as plt\n",
        "import pandas as pd\n",
        "import os\n",
        "from PIL import Image\n",
        "from google.colab.patches import cv2_imshow\n",
        "import cv2"
      ],
      "execution_count": null,
      "outputs": [
        {
          "output_type": "stream",
          "text": [
            "Using TensorFlow backend.\n"
          ],
          "name": "stderr"
        }
      ]
    },
    {
      "cell_type": "code",
      "metadata": {
        "id": "z8hGAC-AnRsR",
        "colab_type": "code",
        "colab": {}
      },
      "source": [
        "# Import modules for accessing files in drive.\n",
        "\n",
        "from pydrive.auth import GoogleAuth\n",
        "from pydrive.drive import GoogleDrive\n",
        "from google.colab import auth\n",
        "from oauth2client.client import GoogleCredentials"
      ],
      "execution_count": null,
      "outputs": []
    },
    {
      "cell_type": "code",
      "metadata": {
        "id": "jHlKYlminV41",
        "colab_type": "code",
        "colab": {}
      },
      "source": [
        "# Here, I authenticate my google account.\n",
        "\n",
        "auth.authenticate_user()\n",
        "gauth = GoogleAuth()\n",
        "gauth.credentials = GoogleCredentials.get_application_default()\n",
        "drive = GoogleDrive(gauth)"
      ],
      "execution_count": null,
      "outputs": []
    },
    {
      "cell_type": "code",
      "metadata": {
        "id": "4IovBtG533hM",
        "colab_type": "code",
        "colab": {}
      },
      "source": [
        "# the url links for the dataset in my drive.\n",
        "\n",
        "url = \"https://drive.google.com/file/d/1tiAwX-8t4XKIVKhN49Vh6H9dVFVQzT5E/view?usp=sharing\"\n",
        "url_id = url[32 : 65]"
      ],
      "execution_count": null,
      "outputs": []
    },
    {
      "cell_type": "code",
      "metadata": {
        "id": "Z-t7xbDznd2V",
        "colab_type": "code",
        "colab": {}
      },
      "source": [
        "# Download the dataset.\n",
        "\n",
        "downloaded = drive.CreateFile({'id' : url_id})\n",
        "downloaded.GetContentFile('Final_dataset.csv')"
      ],
      "execution_count": null,
      "outputs": []
    },
    {
      "cell_type": "code",
      "metadata": {
        "id": "KmPKA75i4EKZ",
        "colab_type": "code",
        "colab": {
          "base_uri": "https://localhost:8080/",
          "height": 202
        },
        "outputId": "e30c4841-992e-4eab-f18a-f439f561523f"
      },
      "source": [
        "# Extract the dataset as a dataframe using pandas library.\n",
        "\n",
        "data = pd.read_csv('Final_dataset.csv')\n",
        "data.head()"
      ],
      "execution_count": null,
      "outputs": [
        {
          "output_type": "execute_result",
          "data": {
            "text/html": [
              "<div>\n",
              "<style scoped>\n",
              "    .dataframe tbody tr th:only-of-type {\n",
              "        vertical-align: middle;\n",
              "    }\n",
              "\n",
              "    .dataframe tbody tr th {\n",
              "        vertical-align: top;\n",
              "    }\n",
              "\n",
              "    .dataframe thead th {\n",
              "        text-align: right;\n",
              "    }\n",
              "</style>\n",
              "<table border=\"1\" class=\"dataframe\">\n",
              "  <thead>\n",
              "    <tr style=\"text-align: right;\">\n",
              "      <th></th>\n",
              "      <th>emotion</th>\n",
              "      <th>pixels</th>\n",
              "      <th>Usage</th>\n",
              "    </tr>\n",
              "  </thead>\n",
              "  <tbody>\n",
              "    <tr>\n",
              "      <th>0</th>\n",
              "      <td>4</td>\n",
              "      <td>243 243 243 243 243 243 243 243 245 243 243 24...</td>\n",
              "      <td>Training</td>\n",
              "    </tr>\n",
              "    <tr>\n",
              "      <th>1</th>\n",
              "      <td>0</td>\n",
              "      <td>0 0 0 0 0 0 0 0 0 0 0 0 0 0 0 0 0 0 0 0 0 0 0 ...</td>\n",
              "      <td>Training</td>\n",
              "    </tr>\n",
              "    <tr>\n",
              "      <th>2</th>\n",
              "      <td>0</td>\n",
              "      <td>0 0 0 0 0 0 0 0 0 0 0 0 0 0 0 0 0 0 0 0 0 0 0 ...</td>\n",
              "      <td>Training</td>\n",
              "    </tr>\n",
              "    <tr>\n",
              "      <th>3</th>\n",
              "      <td>4</td>\n",
              "      <td>189 189 189 187 187 187 191 191 191 189 189 18...</td>\n",
              "      <td>Training</td>\n",
              "    </tr>\n",
              "    <tr>\n",
              "      <th>4</th>\n",
              "      <td>6</td>\n",
              "      <td>200 196 195 197 197 195 197 197 195 198 197 19...</td>\n",
              "      <td>Training</td>\n",
              "    </tr>\n",
              "  </tbody>\n",
              "</table>\n",
              "</div>"
            ],
            "text/plain": [
              "   emotion                                             pixels     Usage\n",
              "0        4  243 243 243 243 243 243 243 243 245 243 243 24...  Training\n",
              "1        0  0 0 0 0 0 0 0 0 0 0 0 0 0 0 0 0 0 0 0 0 0 0 0 ...  Training\n",
              "2        0  0 0 0 0 0 0 0 0 0 0 0 0 0 0 0 0 0 0 0 0 0 0 0 ...  Training\n",
              "3        4  189 189 189 187 187 187 191 191 191 189 189 18...  Training\n",
              "4        6  200 196 195 197 197 195 197 197 195 198 197 19...  Training"
            ]
          },
          "metadata": {
            "tags": []
          },
          "execution_count": 47
        }
      ]
    },
    {
      "cell_type": "code",
      "metadata": {
        "id": "wsMGIuO2upJg",
        "colab_type": "code",
        "colab": {}
      },
      "source": [
        "# Convert the space seperated pixels into lists.\n",
        "\n",
        "for i in range(data.shape[0]):\n",
        "  pix_list = [float(x) for x in data['pixels'][i].split(' ')]\n",
        "  # pix_list = norm_list(pix_list)\n",
        "  pix_arr = np.array(pix_list)\n",
        "  pix_img = np.reshape(pix_arr, (48, 48))\n",
        "  pix_img_to_list = pix_img.tolist()\n",
        "  data['pixels'][i] = pix_img_to_list\n",
        "\n",
        "data.head()"
      ],
      "execution_count": null,
      "outputs": []
    },
    {
      "cell_type": "code",
      "metadata": {
        "id": "uNEsClrgodPC",
        "colab_type": "code",
        "colab": {
          "base_uri": "https://localhost:8080/",
          "height": 219
        },
        "outputId": "f5e5237c-8625-4077-ab16-3580782bf5ac"
      },
      "source": [
        "# Make new dataframes for train, dev and test.\n",
        "\n",
        "dftrain = data[data['Usage'] == 'Training']\n",
        "dfdev = data[data['Usage'] == 'PublicTest']\n",
        "dftest = data[data['Usage'] == 'PrivateTest']\n",
        "print(dftrain.shape, dfdev.shape, dftest.shape)\n",
        "\n",
        "dftrain.head()"
      ],
      "execution_count": null,
      "outputs": [
        {
          "output_type": "stream",
          "text": [
            "(30694, 3) (4089, 3) (4122, 3)\n"
          ],
          "name": "stdout"
        },
        {
          "output_type": "execute_result",
          "data": {
            "text/html": [
              "<div>\n",
              "<style scoped>\n",
              "    .dataframe tbody tr th:only-of-type {\n",
              "        vertical-align: middle;\n",
              "    }\n",
              "\n",
              "    .dataframe tbody tr th {\n",
              "        vertical-align: top;\n",
              "    }\n",
              "\n",
              "    .dataframe thead th {\n",
              "        text-align: right;\n",
              "    }\n",
              "</style>\n",
              "<table border=\"1\" class=\"dataframe\">\n",
              "  <thead>\n",
              "    <tr style=\"text-align: right;\">\n",
              "      <th></th>\n",
              "      <th>emotion</th>\n",
              "      <th>pixels</th>\n",
              "      <th>Usage</th>\n",
              "    </tr>\n",
              "  </thead>\n",
              "  <tbody>\n",
              "    <tr>\n",
              "      <th>0</th>\n",
              "      <td>0</td>\n",
              "      <td>[[86.0, 104.0, 151.0, 119.0, 35.0, 26.0, 36.0,...</td>\n",
              "      <td>Training</td>\n",
              "    </tr>\n",
              "    <tr>\n",
              "      <th>1</th>\n",
              "      <td>4</td>\n",
              "      <td>[[30.0, 30.0, 28.0, 30.0, 27.0, 23.0, 11.0, 5....</td>\n",
              "      <td>Training</td>\n",
              "    </tr>\n",
              "    <tr>\n",
              "      <th>2</th>\n",
              "      <td>3</td>\n",
              "      <td>[[226.0, 226.0, 225.0, 223.0, 223.0, 216.0, 21...</td>\n",
              "      <td>Training</td>\n",
              "    </tr>\n",
              "    <tr>\n",
              "      <th>3</th>\n",
              "      <td>4</td>\n",
              "      <td>[[180.0, 133.0, 85.0, 75.0, 63.0, 63.0, 66.0, ...</td>\n",
              "      <td>Training</td>\n",
              "    </tr>\n",
              "    <tr>\n",
              "      <th>4</th>\n",
              "      <td>0</td>\n",
              "      <td>[[14.0, 15.0, 32.0, 72.0, 82.0, 113.0, 180.0, ...</td>\n",
              "      <td>Training</td>\n",
              "    </tr>\n",
              "  </tbody>\n",
              "</table>\n",
              "</div>"
            ],
            "text/plain": [
              "   emotion                                             pixels     Usage\n",
              "0        0  [[86.0, 104.0, 151.0, 119.0, 35.0, 26.0, 36.0,...  Training\n",
              "1        4  [[30.0, 30.0, 28.0, 30.0, 27.0, 23.0, 11.0, 5....  Training\n",
              "2        3  [[226.0, 226.0, 225.0, 223.0, 223.0, 216.0, 21...  Training\n",
              "3        4  [[180.0, 133.0, 85.0, 75.0, 63.0, 63.0, 66.0, ...  Training\n",
              "4        0  [[14.0, 15.0, 32.0, 72.0, 82.0, 113.0, 180.0, ...  Training"
            ]
          },
          "metadata": {
            "tags": []
          },
          "execution_count": 9
        }
      ]
    },
    {
      "cell_type": "code",
      "metadata": {
        "id": "sYyMG_F7opIj",
        "colab_type": "code",
        "colab": {
          "base_uri": "https://localhost:8080/",
          "height": 283
        },
        "outputId": "1cc68f0f-9beb-4c42-943e-8ed11783f1bc"
      },
      "source": [
        "# Look at the distribution of the emotions in the dataframes.\n",
        "\n",
        "print(dftrain.emotion.hist(bins = 20))\n",
        "# print(dfdev.emotion.hist(bins = 20))\n",
        "# print(dftest.emotion.hist(bins = 20))"
      ],
      "execution_count": null,
      "outputs": [
        {
          "output_type": "stream",
          "text": [
            "AxesSubplot(0.125,0.125;0.775x0.755)\n"
          ],
          "name": "stdout"
        },
        {
          "output_type": "display_data",
          "data": {
            "image/png": "[encoded data removed]",
            "text/plain": [
              "<Figure size 432x288 with 1 Axes>"
            ]
          },
          "metadata": {
            "tags": [],
            "needs_background": "light"
          }
        }
      ]
    },
    {
      "cell_type": "code",
      "metadata": {
        "id": "E9BsAuxoubhO",
        "colab_type": "code",
        "colab": {}
      },
      "source": [
        "# Count of elements in various dataframes.\n",
        "\n",
        "train_count = dftrain.shape[0]\n",
        "dev_count = dfdev.shape[0]\n",
        "test_count = dftest.shape[0]\n",
        "img_h = 48\n",
        "img_w = 48"
      ],
      "execution_count": null,
      "outputs": []
    },
    {
      "cell_type": "code",
      "metadata": {
        "id": "0cKGG99Q9FxZ",
        "colab_type": "code",
        "colab": {}
      },
      "source": [
        "# Emotion classes.\n",
        "\n",
        "y_classes = ['Angry', 'Disgust', 'Fear', 'Happy', 'Sad', 'Surprise', 'Neutral']"
      ],
      "execution_count": null,
      "outputs": []
    },
    {
      "cell_type": "code",
      "metadata": {
        "id": "SH_rqWBrsnbJ",
        "colab_type": "code",
        "colab": {}
      },
      "source": [
        "# Convert y arrays to one hot matrices.\n",
        "\n",
        "y_train = np.array(dftrain['emotion'])\n",
        "y_dev = np.array(dfdev['emotion'])\n",
        "y_test = np.array(dftest['emotion'])\n",
        "\n",
        "Y_train = tf.keras.utils.to_categorical(y_train, num_classes = 7)\n",
        "Y_dev = tf.keras.utils.to_categorical(y_dev, num_classes = 7)\n",
        "Y_test = tf.keras.utils.to_categorical(y_test, num_classes = 7)\n",
        "\n",
        "# print(Y_train)"
      ],
      "execution_count": null,
      "outputs": []
    },
    {
      "cell_type": "code",
      "metadata": {
        "id": "g93ZOJme1TCy",
        "colab_type": "code",
        "colab": {}
      },
      "source": [
        "# Function to extract the numpy array of images from the dataframe.\n",
        "\n",
        "def get_X(df, start, end):\n",
        "  x_list = []\n",
        "  for i in range(start, end):\n",
        "    x_list.append(df[\"pixels\"][i])\n",
        "  X = np.array(x_list)\n",
        "  # X = np.stack([arr] * 3, axis = -1)\n",
        "  X = X / 255\n",
        "  return X"
      ],
      "execution_count": null,
      "outputs": []
    },
    {
      "cell_type": "code",
      "metadata": {
        "id": "Nap4G4vXuCoT",
        "colab_type": "code",
        "colab": {
          "base_uri": "https://localhost:8080/",
          "height": 35
        },
        "outputId": "50692f69-3a86-415d-dd16-b86213ba84de"
      },
      "source": [
        "# Extract data using the above get_X() function.\n",
        "\n",
        "X_train = get_X(dftrain, 0, train_count)\n",
        "X_dev = get_X(dfdev, train_count, train_count + dev_count)\n",
        "X_test = get_X(dftest, train_count + dev_count, train_count + dev_count + test_count)\n",
        "\n",
        "X_train.shape = (train_count, 48, 48, 1)\n",
        "X_dev.shape = (dev_count, 48, 48, 1)\n",
        "X_test.shape = (test_count, 48, 48, 1)\n",
        "\n",
        "X_train.shape"
      ],
      "execution_count": null,
      "outputs": [
        {
          "output_type": "execute_result",
          "data": {
            "text/plain": [
              "(30694, 48, 48, 1)"
            ]
          },
          "metadata": {
            "tags": []
          },
          "execution_count": 15
        }
      ]
    },
    {
      "cell_type": "code",
      "metadata": {
        "id": "q0trV9_iOvHg",
        "colab_type": "code",
        "colab": {}
      },
      "source": [
        "from keras.layers import concatenate"
      ],
      "execution_count": null,
      "outputs": []
    },
    {
      "cell_type": "code",
      "metadata": {
        "id": "twQIOAbb0Utc",
        "colab_type": "code",
        "colab": {}
      },
      "source": [
        "# Define the model.\n",
        "dropout_rate = 0.05\n",
        "\n",
        "def train_model(input_shape):\n",
        "  X_input = Input(input_shape)\n",
        "  X = X_input\n",
        "\n",
        "  X = Conv2D(filters = 32, kernel_size = (3, 3), padding = \"same\", activation = \"relu\")(X)\n",
        "  X = BatchNormalization(axis = 3)(X)\n",
        "  X = Conv2D(filters = 32, kernel_size = (3, 3), activation = \"relu\")(X)\n",
        "  X = BatchNormalization(axis = 3)(X)\n",
        "  X = MaxPooling2D((2, 2))(X)\n",
        "  X = Dropout(0.1)(X)\n",
        "  X = Conv2D(filters = 64, kernel_size = (3, 3), padding = \"same\", activation = \"relu\")(X)\n",
        "  X = BatchNormalization(axis = 3)(X)\n",
        "  X = Conv2D(filters = 64, kernel_size = (3, 3), activation = \"relu\")(X)\n",
        "  X = BatchNormalization(axis = 3)(X)\n",
        "  X = Conv2D(filters = 128, kernel_size = (3, 3), padding = \"same\", activation = \"relu\")(X)\n",
        "  X = BatchNormalization(axis = 3)(X)\n",
        "  X = Conv2D(filters = 64, kernel_size = (3, 3), activation = \"relu\")(X)\n",
        "  X = BatchNormalization(axis = 3)(X)\n",
        "  X = MaxPooling2D((2, 2))(X)\n",
        "  X = Dropout(0.1)(X)\n",
        "  X = Flatten()(X)\n",
        "  X = Dense(1024, activation = \"relu\")(X)\n",
        "  X = Dropout(0.1)(X)\n",
        "  X = Dense(7, activation = \"softmax\")(X)\n",
        "\n",
        "  model = Model(inputs = X_input, outputs = X)\n",
        "  return model"
      ],
      "execution_count": null,
      "outputs": []
    },
    {
      "cell_type": "code",
      "metadata": {
        "id": "CVHjxWyv65gY",
        "colab_type": "code",
        "colab": {}
      },
      "source": [
        "# Initialize the model\n",
        "\n",
        "Emotion_Model = train_model((48, 48, 1))"
      ],
      "execution_count": null,
      "outputs": []
    },
    {
      "cell_type": "code",
      "metadata": {
        "id": "xvJJtbGlRybe",
        "colab_type": "code",
        "colab": {
          "base_uri": "https://localhost:8080/",
          "height": 884
        },
        "outputId": "9079f4df-89d8-4687-ac19-46f427b5a1d5"
      },
      "source": [
        "Emotion_Model.summary()"
      ],
      "execution_count": null,
      "outputs": [
        {
          "output_type": "stream",
          "text": [
            "Model: \"model_1\"\n",
            "_________________________________________________________________\n",
            "Layer (type)                 Output Shape              Param #   \n",
            "=================================================================\n",
            "input_1 (InputLayer)         (None, 48, 48, 1)         0         \n",
            "_________________________________________________________________\n",
            "conv2d_1 (Conv2D)            (None, 48, 48, 32)        320       \n",
            "_________________________________________________________________\n",
            "batch_normalization_1 (Batch (None, 48, 48, 32)        128       \n",
            "_________________________________________________________________\n",
            "conv2d_2 (Conv2D)            (None, 46, 46, 32)        9248      \n",
            "_________________________________________________________________\n",
            "batch_normalization_2 (Batch (None, 46, 46, 32)        128       \n",
            "_________________________________________________________________\n",
            "max_pooling2d_1 (MaxPooling2 (None, 23, 23, 32)        0         \n",
            "_________________________________________________________________\n",
            "dropout_1 (Dropout)          (None, 23, 23, 32)        0         \n",
            "_________________________________________________________________\n",
            "conv2d_3 (Conv2D)            (None, 23, 23, 64)        18496     \n",
            "_________________________________________________________________\n",
            "batch_normalization_3 (Batch (None, 23, 23, 64)        256       \n",
            "_________________________________________________________________\n",
            "conv2d_4 (Conv2D)            (None, 21, 21, 64)        36928     \n",
            "_________________________________________________________________\n",
            "batch_normalization_4 (Batch (None, 21, 21, 64)        256       \n",
            "_________________________________________________________________\n",
            "conv2d_5 (Conv2D)            (None, 21, 21, 128)       73856     \n",
            "_________________________________________________________________\n",
            "batch_normalization_5 (Batch (None, 21, 21, 128)       512       \n",
            "_________________________________________________________________\n",
            "conv2d_6 (Conv2D)            (None, 19, 19, 64)        73792     \n",
            "_________________________________________________________________\n",
            "batch_normalization_6 (Batch (None, 19, 19, 64)        256       \n",
            "_________________________________________________________________\n",
            "max_pooling2d_2 (MaxPooling2 (None, 9, 9, 64)          0         \n",
            "_________________________________________________________________\n",
            "dropout_2 (Dropout)          (None, 9, 9, 64)          0         \n",
            "_________________________________________________________________\n",
            "flatten_1 (Flatten)          (None, 5184)              0         \n",
            "_________________________________________________________________\n",
            "dense_1 (Dense)              (None, 1024)              5309440   \n",
            "_________________________________________________________________\n",
            "dropout_3 (Dropout)          (None, 1024)              0         \n",
            "_________________________________________________________________\n",
            "dense_2 (Dense)              (None, 7)                 7175      \n",
            "=================================================================\n",
            "Total params: 5,530,791\n",
            "Trainable params: 5,530,023\n",
            "Non-trainable params: 768\n",
            "_________________________________________________________________\n"
          ],
          "name": "stdout"
        }
      ]
    },
    {
      "cell_type": "code",
      "metadata": {
        "id": "03GLRYOm8LsR",
        "colab_type": "code",
        "colab": {}
      },
      "source": [
        "# Compile the model.\n",
        "\n",
        "Emotion_Model.compile(optimizer = \"sgd\", loss = \"categorical_crossentropy\", metrics = ['accuracy'])"
      ],
      "execution_count": null,
      "outputs": []
    },
    {
      "cell_type": "code",
      "metadata": {
        "id": "TCC3dk9JKY1o",
        "colab_type": "code",
        "colab": {
          "base_uri": "https://localhost:8080/",
          "height": 208
        },
        "outputId": "4a926697-ee51-4d8a-dea7-bb2b4df5604c"
      },
      "source": [
        "# Fit the model.\n",
        "\n",
        "Emotion_Model.fit(X_train, Y_train, batch_size = 128, epochs = 5) # = 15"
      ],
      "execution_count": null,
      "outputs": [
        {
          "output_type": "stream",
          "text": [
            "Epoch 1/5\n",
            "30694/30694 [==============================] - 18s 577us/step - loss: 1.6101 - accuracy: 0.3987\n",
            "Epoch 2/5\n",
            "30694/30694 [==============================] - 10s 337us/step - loss: 1.3206 - accuracy: 0.4955\n",
            "Epoch 3/5\n",
            "30694/30694 [==============================] - 10s 337us/step - loss: 1.2194 - accuracy: 0.5343\n",
            "Epoch 4/5\n",
            "30694/30694 [==============================] - 10s 337us/step - loss: 1.1412 - accuracy: 0.5671\n",
            "Epoch 5/5\n",
            "30694/30694 [==============================] - 10s 337us/step - loss: 1.0719 - accuracy: 0.5947\n"
          ],
          "name": "stdout"
        },
        {
          "output_type": "execute_result",
          "data": {
            "text/plain": [
              "<keras.callbacks.callbacks.History at 0x7fa4600d7f60>"
            ]
          },
          "metadata": {
            "tags": []
          },
          "execution_count": 20
        }
      ]
    },
    {
      "cell_type": "code",
      "metadata": {
        "id": "mTwc5kpICvKi",
        "colab_type": "code",
        "colab": {
          "base_uri": "https://localhost:8080/",
          "height": 381
        },
        "outputId": "b29af171-c72f-4494-8aa6-79a85dd8485c"
      },
      "source": [
        "Emotion_Model.fit(X_train, Y_train, batch_size = 128, epochs = 10)"
      ],
      "execution_count": null,
      "outputs": [
        {
          "output_type": "stream",
          "text": [
            "Epoch 1/10\n",
            "30694/30694 [==============================] - 10s 338us/step - loss: 1.0188 - accuracy: 0.6218\n",
            "Epoch 2/10\n",
            "30694/30694 [==============================] - 10s 342us/step - loss: 0.9638 - accuracy: 0.6420\n",
            "Epoch 3/10\n",
            "30694/30694 [==============================] - 10s 339us/step - loss: 0.9154 - accuracy: 0.6608\n",
            "Epoch 4/10\n",
            "30694/30694 [==============================] - 10s 337us/step - loss: 0.8705 - accuracy: 0.6808\n",
            "Epoch 5/10\n",
            "30694/30694 [==============================] - 10s 337us/step - loss: 0.8192 - accuracy: 0.7035\n",
            "Epoch 6/10\n",
            "30694/30694 [==============================] - 10s 337us/step - loss: 0.7750 - accuracy: 0.7195\n",
            "Epoch 7/10\n",
            "30694/30694 [==============================] - 10s 336us/step - loss: 0.7187 - accuracy: 0.7418\n",
            "Epoch 8/10\n",
            "30694/30694 [==============================] - 10s 336us/step - loss: 0.6773 - accuracy: 0.7551\n",
            "Epoch 9/10\n",
            "30694/30694 [==============================] - 10s 337us/step - loss: 0.6246 - accuracy: 0.7786\n",
            "Epoch 10/10\n",
            "30694/30694 [==============================] - 10s 337us/step - loss: 0.5850 - accuracy: 0.7930\n"
          ],
          "name": "stdout"
        },
        {
          "output_type": "execute_result",
          "data": {
            "text/plain": [
              "<keras.callbacks.callbacks.History at 0x7fa46010d4e0>"
            ]
          },
          "metadata": {
            "tags": []
          },
          "execution_count": 21
        }
      ]
    },
    {
      "cell_type": "code",
      "metadata": {
        "id": "rFPboTyHIaJ7",
        "colab_type": "code",
        "colab": {
          "base_uri": "https://localhost:8080/",
          "height": 381
        },
        "outputId": "6558cbb4-1d5e-4916-ecae-648656180a44"
      },
      "source": [
        "Emotion_Model.fit(X_train, Y_train, batch_size = 128, epochs = 10)"
      ],
      "execution_count": null,
      "outputs": [
        {
          "output_type": "stream",
          "text": [
            "Epoch 1/10\n",
            "30694/30694 [==============================] - 10s 338us/step - loss: 0.5400 - accuracy: 0.8134\n",
            "Epoch 2/10\n",
            "30694/30694 [==============================] - 10s 337us/step - loss: 0.4955 - accuracy: 0.8273\n",
            "Epoch 3/10\n",
            "30694/30694 [==============================] - 10s 337us/step - loss: 0.4536 - accuracy: 0.8450\n",
            "Epoch 4/10\n",
            "30694/30694 [==============================] - 10s 337us/step - loss: 0.4121 - accuracy: 0.8603\n",
            "Epoch 5/10\n",
            "30694/30694 [==============================] - 10s 336us/step - loss: 0.3800 - accuracy: 0.8716\n",
            "Epoch 6/10\n",
            "30694/30694 [==============================] - 10s 337us/step - loss: 0.3408 - accuracy: 0.8887\n",
            "Epoch 7/10\n",
            "30694/30694 [==============================] - 10s 338us/step - loss: 0.3098 - accuracy: 0.9000\n",
            "Epoch 8/10\n",
            "30694/30694 [==============================] - 10s 339us/step - loss: 0.2837 - accuracy: 0.9104\n",
            "Epoch 9/10\n",
            "30694/30694 [==============================] - 10s 338us/step - loss: 0.2608 - accuracy: 0.9170\n",
            "Epoch 10/10\n",
            "30694/30694 [==============================] - 10s 337us/step - loss: 0.2320 - accuracy: 0.9284\n"
          ],
          "name": "stdout"
        },
        {
          "output_type": "execute_result",
          "data": {
            "text/plain": [
              "<keras.callbacks.callbacks.History at 0x7fa3ff54b400>"
            ]
          },
          "metadata": {
            "tags": []
          },
          "execution_count": 24
        }
      ]
    },
    {
      "cell_type": "code",
      "metadata": {
        "id": "wdZ0ryUwI6N6",
        "colab_type": "code",
        "colab": {
          "base_uri": "https://localhost:8080/",
          "height": 208
        },
        "outputId": "092c43dd-c267-4502-8ab7-0c8cfb86f599"
      },
      "source": [
        "Emotion_Model.fit(X_train, Y_train, batch_size = 128, epochs = 5)"
      ],
      "execution_count": null,
      "outputs": [
        {
          "output_type": "stream",
          "text": [
            "Epoch 1/5\n",
            "30694/30694 [==============================] - 10s 338us/step - loss: 0.2101 - accuracy: 0.9365\n",
            "Epoch 2/5\n",
            "30694/30694 [==============================] - 10s 338us/step - loss: 0.1919 - accuracy: 0.9426\n",
            "Epoch 3/5\n",
            "30694/30694 [==============================] - 10s 338us/step - loss: 0.1761 - accuracy: 0.9467\n",
            "Epoch 4/5\n",
            "30694/30694 [==============================] - 10s 340us/step - loss: 0.1634 - accuracy: 0.9522\n",
            "Epoch 5/5\n",
            "30694/30694 [==============================] - 10s 340us/step - loss: 0.1489 - accuracy: 0.9574\n"
          ],
          "name": "stdout"
        },
        {
          "output_type": "execute_result",
          "data": {
            "text/plain": [
              "<keras.callbacks.callbacks.History at 0x7fa46010c358>"
            ]
          },
          "metadata": {
            "tags": []
          },
          "execution_count": 27
        }
      ]
    },
    {
      "cell_type": "code",
      "metadata": {
        "id": "THcGeMU0JPH7",
        "colab_type": "code",
        "colab": {
          "base_uri": "https://localhost:8080/",
          "height": 208
        },
        "outputId": "a0fb860f-ebf9-41ee-a94c-6321bbe118cc"
      },
      "source": [
        "Emotion_Model.fit(X_train, Y_train, batch_size = 128, epochs = 5)"
      ],
      "execution_count": null,
      "outputs": [
        {
          "output_type": "stream",
          "text": [
            "Epoch 1/5\n",
            "30694/30694 [==============================] - 10s 338us/step - loss: 0.1340 - accuracy: 0.9618\n",
            "Epoch 2/5\n",
            "30694/30694 [==============================] - 10s 337us/step - loss: 0.1252 - accuracy: 0.9647\n",
            "Epoch 3/5\n",
            "30694/30694 [==============================] - 10s 338us/step - loss: 0.1165 - accuracy: 0.9685\n",
            "Epoch 4/5\n",
            "30694/30694 [==============================] - 10s 337us/step - loss: 0.1100 - accuracy: 0.9696\n",
            "Epoch 5/5\n",
            "30694/30694 [==============================] - 10s 338us/step - loss: 0.0989 - accuracy: 0.9732\n"
          ],
          "name": "stdout"
        },
        {
          "output_type": "execute_result",
          "data": {
            "text/plain": [
              "<keras.callbacks.callbacks.History at 0x7fa46010c630>"
            ]
          },
          "metadata": {
            "tags": []
          },
          "execution_count": 30
        }
      ]
    },
    {
      "cell_type": "code",
      "metadata": {
        "id": "jlNAXifsNWUk",
        "colab_type": "code",
        "colab": {
          "base_uri": "https://localhost:8080/",
          "height": 208
        },
        "outputId": "2df87d11-3156-4e26-96d3-1026befa2a6a"
      },
      "source": [
        "Emotion_Model.fit(X_train, Y_train, batch_size = 128, epochs = 5)"
      ],
      "execution_count": null,
      "outputs": [
        {
          "output_type": "stream",
          "text": [
            "Epoch 1/5\n",
            "30694/30694 [==============================] - 10s 342us/step - loss: 0.0977 - accuracy: 0.9741\n",
            "Epoch 2/5\n",
            "30694/30694 [==============================] - 10s 341us/step - loss: 0.0906 - accuracy: 0.9754\n",
            "Epoch 3/5\n",
            "30694/30694 [==============================] - 10s 340us/step - loss: 0.0876 - accuracy: 0.9760\n",
            "Epoch 4/5\n",
            "30694/30694 [==============================] - 10s 339us/step - loss: 0.0793 - accuracy: 0.9796\n",
            "Epoch 5/5\n",
            "30694/30694 [==============================] - 10s 338us/step - loss: 0.0709 - accuracy: 0.9828\n"
          ],
          "name": "stdout"
        },
        {
          "output_type": "execute_result",
          "data": {
            "text/plain": [
              "<keras.callbacks.callbacks.History at 0x7fa46010c978>"
            ]
          },
          "metadata": {
            "tags": []
          },
          "execution_count": 36
        }
      ]
    },
    {
      "cell_type": "code",
      "metadata": {
        "id": "eyl9fNARNmke",
        "colab_type": "code",
        "colab": {
          "base_uri": "https://localhost:8080/",
          "height": 208
        },
        "outputId": "d200f721-a1ad-4722-8dde-e7b98c839cc5"
      },
      "source": [
        "Emotion_Model.fit(X_train, Y_train, batch_size = 128, epochs = 5)"
      ],
      "execution_count": null,
      "outputs": [
        {
          "output_type": "stream",
          "text": [
            "Epoch 1/5\n",
            "30694/30694 [==============================] - 10s 337us/step - loss: 0.0722 - accuracy: 0.9813\n",
            "Epoch 2/5\n",
            "30694/30694 [==============================] - 10s 337us/step - loss: 0.0688 - accuracy: 0.9829\n",
            "Epoch 3/5\n",
            "30694/30694 [==============================] - 10s 338us/step - loss: 0.0645 - accuracy: 0.9838\n",
            "Epoch 4/5\n",
            "30694/30694 [==============================] - 10s 339us/step - loss: 0.0609 - accuracy: 0.9848\n",
            "Epoch 5/5\n",
            "30694/30694 [==============================] - 10s 340us/step - loss: 0.0592 - accuracy: 0.9847\n"
          ],
          "name": "stdout"
        },
        {
          "output_type": "execute_result",
          "data": {
            "text/plain": [
              "<keras.callbacks.callbacks.History at 0x7fa46010ca90>"
            ]
          },
          "metadata": {
            "tags": []
          },
          "execution_count": 39
        }
      ]
    },
    {
      "cell_type": "code",
      "metadata": {
        "id": "ulmL5yDxK3-W",
        "colab_type": "code",
        "colab": {
          "base_uri": "https://localhost:8080/",
          "height": 52
        },
        "outputId": "e0e9b437-b252-46b4-e3a6-eae0a3eae020"
      },
      "source": [
        "# Evaluate model on the dev set.\n",
        "\n",
        "Emotion_Model.evaluate(X_dev, Y_dev, batch_size = 64, verbose = 1) "
      ],
      "execution_count": null,
      "outputs": [
        {
          "output_type": "stream",
          "text": [
            "4089/4089 [==============================] - 1s 149us/step\n"
          ],
          "name": "stdout"
        },
        {
          "output_type": "execute_result",
          "data": {
            "text/plain": [
              "[1.5797972715288715, 0.629493772983551]"
            ]
          },
          "metadata": {
            "tags": []
          },
          "execution_count": 40
        }
      ]
    },
    {
      "cell_type": "code",
      "metadata": {
        "id": "dxGzdT3a-SiK",
        "colab_type": "code",
        "colab": {
          "base_uri": "https://localhost:8080/",
          "height": 52
        },
        "outputId": "fc838c86-9754-4995-908d-fe0a042c71a4"
      },
      "source": [
        "# Evaluate model on the test set.\n",
        "\n",
        "Emotion_Model.evaluate(X_test, Y_test, batch_size = 64, verbose = 1)"
      ],
      "execution_count": null,
      "outputs": [
        {
          "output_type": "stream",
          "text": [
            "4122/4122 [==============================] - 1s 144us/step\n"
          ],
          "name": "stdout"
        },
        {
          "output_type": "execute_result",
          "data": {
            "text/plain": [
              "[1.5091670078886532, 0.634158194065094]"
            ]
          },
          "metadata": {
            "tags": []
          },
          "execution_count": 41
        }
      ]
    },
    {
      "cell_type": "code",
      "metadata": {
        "id": "P2vrxp4bRFd-",
        "colab_type": "code",
        "colab": {}
      },
      "source": [
        "from google.colab import drive"
      ],
      "execution_count": null,
      "outputs": []
    },
    {
      "cell_type": "code",
      "metadata": {
        "id": "cHJxAVUARKw5",
        "colab_type": "code",
        "colab": {
          "base_uri": "https://localhost:8080/",
          "height": 124
        },
        "outputId": "48276cd0-2cf0-4c00-8bf5-5bf74f0a0e7b"
      },
      "source": [
        "drive.mount('/content/gdrive')"
      ],
      "execution_count": null,
      "outputs": [
        {
          "output_type": "stream",
          "text": [
            "Go to this URL in a browser: https://accounts.google.com/o/oauth2/auth?client_id=947318989803-6bn6qk8qdgf4n4g3pfee6491hc0brc4i.apps.googleusercontent.com&redirect_uri=urn%3aietf%3awg%3aoauth%3a2.0%3aoob&response_type=code&scope=email%20https%3a%2f%2fwww.googleapis.com%2fauth%2fdocs.test%20https%3a%2f%2fwww.googleapis.com%2fauth%2fdrive%20https%3a%2f%2fwww.googleapis.com%2fauth%2fdrive.photos.readonly%20https%3a%2f%2fwww.googleapis.com%2fauth%2fpeopleapi.readonly\n",
            "\n",
            "Enter your authorization code:\n",
            "··········\n",
            "Mounted at /content/gdrive\n"
          ],
          "name": "stdout"
        }
      ]
    },
    {
      "cell_type": "code",
      "metadata": {
        "id": "bplMq_RmRjKA",
        "colab_type": "code",
        "colab": {}
      },
      "source": [
        "model_name = \"emotions-(1).h5\"\n",
        "path = F'/content/drive/My Drive/Model_folder/{model_name}' \n",
        "Emotion_Model.save(model_name, path)"
      ],
      "execution_count": null,
      "outputs": []
    },
    {
      "cell_type": "code",
      "metadata": {
        "id": "1S6CZqWNr6zQ",
        "colab_type": "code",
        "colab": {}
      },
      "source": [
        "import dlib\n",
        "from PIL import Image\n",
        "from skimage import io\n",
        "import matplotlib.pyplot as plt\n",
        "\n",
        "\n",
        "def detect_faces(image):\n",
        "\n",
        "    # Create a face detector\n",
        "    face_detector = dlib.get_frontal_face_detector()\n",
        "\n",
        "    # Run detector and get bounding boxes of the faces on image.\n",
        "    detected_faces = face_detector(image, 1)\n",
        "    face_frames = [(x.left(), x.top(),\n",
        "                    x.right(), x.bottom()) for x in detected_faces]\n",
        "\n",
        "    return face_frames"
      ],
      "execution_count": null,
      "outputs": []
    },
    {
      "cell_type": "code",
      "metadata": {
        "id": "sk9BU3rLz2Kr",
        "colab_type": "code",
        "colab": {}
      },
      "source": [
        "import cv2\n",
        "\n",
        "def facecrop(image):\n",
        "    facedata = r\"C:\\Users\\Prajeeth\\miniconda3\\envs\\tensorflow\\Lib\\site-packages\\cv2\\data\\haarcascade_frontalface_alt.xml\"\n",
        "    cascade = cv2.CascadeClassifier(facedata)\n",
        "\n",
        "    img = cv2.imread(image, 0)\n",
        "\n",
        "    minisize = (img.shape[1],img.shape[0])\n",
        "    miniframe = cv2.resize(img, minisize)\n",
        "\n",
        "    faces = cascade.detectMultiScale(miniframe)\n",
        "\n",
        "    for f in faces:\n",
        "        x, y, w, h = [ v for v in f ]\n",
        "        cv2.rectangle(img, (x,y), (x+w,y+h), (255,255,255))\n",
        "\n",
        "        sub_face = img[y:y+h, x:x+w]\n",
        "        fname, ext = os.path.splitext(image)\n",
        "        new_path = fname + \"_cropped_\" + ext\n",
        "        cv2.imwrite(new_path, sub_face)\n",
        "\n",
        "    return new_path"
      ],
      "execution_count": null,
      "outputs": []
    },
    {
      "cell_type": "code",
      "metadata": {
        "id": "0gYLYdBZsolp",
        "colab_type": "code",
        "colab": {
          "base_uri": "https://localhost:8080/",
          "height": 34
        },
        "outputId": "45785410-9664-42f1-d654-4bb44387f042"
      },
      "source": [
        "image_url = \"https://drive.google.com/file/d/1WMadxACCP5O_kHL2hd9pxqaXHG91Im4g/view?usp=sharing\"\n",
        "image_id = image_url[32:65]\n",
        "image_id"
      ],
      "execution_count": null,
      "outputs": [
        {
          "output_type": "execute_result",
          "data": {
            "text/plain": [
              "'1WMadxACCP5O_kHL2hd9pxqaXHG91Im4g'"
            ]
          },
          "metadata": {
            "tags": []
          },
          "execution_count": 10
        }
      ]
    },
    {
      "cell_type": "code",
      "metadata": {
        "id": "Z58f75Kys0cM",
        "colab_type": "code",
        "colab": {}
      },
      "source": [
        "downloaded = drive.CreateFile({'id' : image_id})\n",
        "downloaded.GetContentFile('image_4.jpeg')"
      ],
      "execution_count": null,
      "outputs": []
    },
    {
      "cell_type": "code",
      "metadata": {
        "id": "qMREtBhftOXd",
        "colab_type": "code",
        "colab": {
          "base_uri": "https://localhost:8080/",
          "height": 850
        },
        "outputId": "068dad0f-43a2-4b02-9a01-b2b75c2a9104"
      },
      "source": [
        "# Load image\n",
        "img_path = 'image_4.jpeg'\n",
        "image = io.imread(img_path)\n",
        "image"
      ],
      "execution_count": null,
      "outputs": [
        {
          "output_type": "execute_result",
          "data": {
            "text/plain": [
              "array([[[236, 237, 232],\n",
              "        [236, 237, 232],\n",
              "        [236, 237, 232],\n",
              "        ...,\n",
              "        [164, 136, 115],\n",
              "        [215, 184, 164],\n",
              "        [210, 179, 158]],\n",
              "\n",
              "       [[236, 237, 232],\n",
              "        [236, 237, 232],\n",
              "        [236, 237, 232],\n",
              "        ...,\n",
              "        [213, 185, 164],\n",
              "        [229, 198, 178],\n",
              "        [216, 185, 164]],\n",
              "\n",
              "       [[236, 237, 232],\n",
              "        [236, 237, 232],\n",
              "        [236, 237, 232],\n",
              "        ...,\n",
              "        [228, 200, 179],\n",
              "        [232, 201, 181],\n",
              "        [233, 202, 182]],\n",
              "\n",
              "       ...,\n",
              "\n",
              "       [[ 52,  55,  62],\n",
              "        [ 62,  65,  72],\n",
              "        [ 59,  62,  69],\n",
              "        ...,\n",
              "        [ 14,  17,  22],\n",
              "        [ 33,  36,  41],\n",
              "        [ 12,  15,  20]],\n",
              "\n",
              "       [[ 57,  60,  67],\n",
              "        [ 57,  60,  67],\n",
              "        [ 37,  40,  47],\n",
              "        ...,\n",
              "        [ 12,  15,  20],\n",
              "        [ 31,  34,  39],\n",
              "        [ 20,  23,  28]],\n",
              "\n",
              "       [[ 79,  82,  89],\n",
              "        [ 45,  48,  55],\n",
              "        [ 13,  16,  23],\n",
              "        ...,\n",
              "        [  8,  13,  19],\n",
              "        [ 29,  32,  39],\n",
              "        [ 28,  31,  38]]], dtype=uint8)"
            ]
          },
          "metadata": {
            "tags": []
          },
          "execution_count": 12
        }
      ]
    },
    {
      "cell_type": "code",
      "metadata": {
        "id": "Yd-Fgt_dRjpM",
        "colab_type": "code",
        "colab": {
          "base_uri": "https://localhost:8080/",
          "height": 267
        },
        "outputId": "659f3137-fb10-41e7-d14c-1c5516e014dc"
      },
      "source": [
        "# Detect faces\n",
        "detected_faces = detect_faces(image)\n",
        "\n",
        "# Crop faces and plot\n",
        "for n, face_rect in enumerate(detected_faces):\n",
        "    face = Image.fromarray(image).crop(face_rect)\n",
        "    face.thumbnail((48, 48), Image.ANTIALIAS)\n",
        "    face = face.convert('L')\n",
        "    face.save(img_path)\n",
        "    plt.imshow(face)"
      ],
      "execution_count": null,
      "outputs": [
        {
          "output_type": "display_data",
          "data": {
            "image/png": "[encoded data removed]",
            "text/plain": [
              "<Figure size 432x288 with 1 Axes>"
            ]
          },
          "metadata": {
            "tags": [],
            "needs_background": "light"
          }
        }
      ]
    },
    {
      "cell_type": "code",
      "metadata": {
        "id": "TFDTVBnJtiuj",
        "colab_type": "code",
        "colab": {}
      },
      "source": [
        "import numpy as np\n",
        "face_arr = np.asarray(face, dtype = np.float32)\n",
        "face_arr = face_arr / 255\n",
        "# face_arr\n",
        "face_arr.shape = (1, 48, 48, 1)\n",
        "\n",
        "# face.save(image_path)"
      ],
      "execution_count": null,
      "outputs": []
    },
    {
      "cell_type": "code",
      "metadata": {
        "id": "hkm-KjH5uOPN",
        "colab_type": "code",
        "colab": {
          "base_uri": "https://localhost:8080/",
          "height": 68
        },
        "outputId": "0c032230-b92a-42f4-ebdb-03334e7fe1e6"
      },
      "source": [
        "pred_arr = Emodel.predict(face_arr, verbose = 1)\n",
        "pred_arr"
      ],
      "execution_count": null,
      "outputs": [
        {
          "output_type": "stream",
          "text": [
            "\r1/1 [==============================] - 6s 6s/step\n"
          ],
          "name": "stdout"
        },
        {
          "output_type": "execute_result",
          "data": {
            "text/plain": [
              "array([[0.1619563 , 0.0019418 , 0.1443102 , 0.00653373, 0.12347215,\n",
              "        0.05256133, 0.5092245 ]], dtype=float32)"
            ]
          },
          "metadata": {
            "tags": []
          },
          "execution_count": 16
        }
      ]
    },
    {
      "cell_type": "code",
      "metadata": {
        "id": "k5zfTwPM1CGz",
        "colab_type": "code",
        "colab": {
          "base_uri": "https://localhost:8080/",
          "height": 51
        },
        "outputId": "516fb38f-e4dd-48dc-804e-7ae5bd7d4ccb"
      },
      "source": [
        "print(np.argmax(pred_arr))\n",
        "\n",
        "print(y_classes[np.argmax(pred_arr)])"
      ],
      "execution_count": null,
      "outputs": [
        {
          "output_type": "stream",
          "text": [
            "6\n",
            "Neutral\n"
          ],
          "name": "stdout"
        }
      ]
    }
  ]
}